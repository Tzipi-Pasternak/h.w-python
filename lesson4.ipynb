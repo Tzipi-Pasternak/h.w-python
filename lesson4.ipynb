{
 "cells": [
  {
   "cell_type": "code",
   "execution_count": 23,
   "id": "a9937ade-70f2-4f68-b7eb-419c6f255da7",
   "metadata": {},
   "outputs": [
    {
     "data": {
      "text/plain": [
       "array([ 1, 12, 16, 27,  3, 32,  3, 21, 34, 48], dtype=int32)"
      ]
     },
     "execution_count": 23,
     "metadata": {},
     "output_type": "execute_result"
    }
   ],
   "source": [
    "import numpy as np\n",
    "random_int_array = np.random.randint(1, 50, size=10)\n",
    "random_int_array"
   ]
  },
  {
   "cell_type": "code",
   "execution_count": 21,
   "id": "797e50c4-d840-4862-988c-8f940d456718",
   "metadata": {},
   "outputs": [
    {
     "name": "stdout",
     "output_type": "stream",
     "text": [
      "Requirement already satisfied: numpy in c:\\python310\\lib\\site-packages (2.2.5)\n",
      "Note: you may need to restart the kernel to use updated packages.\n"
     ]
    },
    {
     "name": "stderr",
     "output_type": "stream",
     "text": [
      "\n",
      "[notice] A new release of pip is available: 23.3.2 -> 25.1\n",
      "[notice] To update, run: python.exe -m pip install --upgrade pip\n"
     ]
    }
   ],
   "source": [
    "pip install numpy"
   ]
  },
  {
   "cell_type": "code",
   "execution_count": 17,
   "id": "2b95c973-1aa6-47a4-87fc-d5c256117f07",
   "metadata": {},
   "outputs": [
    {
     "data": {
      "text/plain": [
       "array([17, 39, 31, 21, 39, 21, 41,  7, 21,  5], dtype=int32)"
      ]
     },
     "execution_count": 17,
     "metadata": {},
     "output_type": "execute_result"
    }
   ],
   "source": [
    "import numpy as np\n",
    "random_int_array = np.random.randint(1, 50, size=10)\n",
    "random_int_array"
   ]
  },
  {
   "cell_type": "code",
   "execution_count": 19,
   "id": "1e63d3b7-1e40-425a-9255-cbda5dedf981",
   "metadata": {},
   "outputs": [
    {
     "data": {
      "text/plain": [
       "array([[21, 18, 62, 80, 76],\n",
       "       [28, 97, 22, 43, 84]], dtype=int32)"
      ]
     },
     "execution_count": 19,
     "metadata": {},
     "output_type": "execute_result"
    }
   ],
   "source": [
    "random_int_array = np.random.randint(10, 100, size=(2, 5))\n",
    "random_int_array"
   ]
  },
  {
   "cell_type": "code",
   "execution_count": 24,
   "id": "f30f5d57-9a60-4277-820a-4af6255136bc",
   "metadata": {},
   "outputs": [
    {
     "data": {
      "text/plain": [
       "np.float64(24.3)"
      ]
     },
     "execution_count": 24,
     "metadata": {},
     "output_type": "execute_result"
    }
   ],
   "source": [
    "random_int_array = np.random.randint(1, 50, size=10)\n",
    "np.mean(random_int_array)"
   ]
  },
  {
   "cell_type": "code",
   "execution_count": null,
   "id": "2dd0e54d-e326-4f00-bfbd-072a0cac3252",
   "metadata": {},
   "outputs": [],
   "source": [
    "a = np.random.randint(10, 100, size=(3, 3))\n",
    "b = np.random.randint(10, 100, size=(3, 3))\n",
    "ab=a+b\n",
    "np.mean(random_int_array)"
   ]
  }
 ],
 "metadata": {
  "kernelspec": {
   "display_name": "Python 3 (ipykernel)",
   "language": "python",
   "name": "python3"
  },
  "language_info": {
   "codemirror_mode": {
    "name": "ipython",
    "version": 3
   },
   "file_extension": ".py",
   "mimetype": "text/x-python",
   "name": "python",
   "nbconvert_exporter": "python",
   "pygments_lexer": "ipython3",
   "version": "3.10.8"
  }
 },
 "nbformat": 4,
 "nbformat_minor": 5
}
